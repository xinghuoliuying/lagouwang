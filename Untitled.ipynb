{
 "cells": [
  {
   "cell_type": "markdown",
   "metadata": {},
   "source": [
    "# 爬虫实战2：拉勾网"
   ]
  },
  {
   "cell_type": "code",
   "execution_count": null,
   "metadata": {},
   "outputs": [
    {
     "name": "stdout",
     "output_type": "stream",
     "text": [
      "正在采集第1个页面\n",
      "正在采集第2个页面\n",
      "正在采集第3个页面\n",
      "正在采集第4个页面\n",
      "正在采集第5个页面\n",
      "正在采集第6个页面\n",
      "正在采集第7个页面\n",
      "正在采集第8个页面\n",
      "正在采集第9个页面\n",
      "正在采集第10个页面\n",
      "正在采集第11个页面\n",
      "正在采集第12个页面\n",
      "正在采集第13个页面\n",
      "正在采集第14个页面\n",
      "正在采集第15个页面\n",
      "正在采集第16个页面\n",
      "正在采集第17个页面\n",
      "正在采集第18个页面\n",
      "正在采集第19个页面\n",
      "正在采集第20个页面\n",
      "正在采集第21个页面\n",
      "正在采集第22个页面\n",
      "正在采集第23个页面\n",
      "正在采集第24个页面\n",
      "正在采集第25个页面\n",
      "正在采集第26个页面\n",
      "正在采集第27个页面\n",
      "正在采集第28个页面\n",
      "正在采集第29个页面\n",
      "正在采集第30个页面\n"
     ]
    }
   ],
   "source": [
    "from selenium import webdriver\n",
    "from bs4 import BeautifulSoup\n",
    "import os\n",
    "import time\n",
    "import pandas as pd\n",
    "import numpy as np\n",
    "import csv\n",
    "import pymysql\n",
    "\n",
    "firefox_driver = '/mnt/c/Users/Administrator/Desktop/python/Driver/geckodriver.exe'\n",
    "driver = webdriver.Firefox(executable_path = firefox_driver)\n",
    "\n",
    "db = pymysql.connect(host='127.0.0.1',user='root',password='123',database='scraping',charset='utf8') #连接MySQL数据库\n",
    "cur = db.cursor()\n",
    "\n",
    "job=[]       #建立空列表放入要抓取的信息\n",
    "company=[]\n",
    "salary=[]\n",
    "experience=[]\n",
    "education=[]\n",
    "address=[]\n",
    "describe=[]\n",
    "\n",
    "def scraping(url):           #爬取页面信息\n",
    "    driver.get(url)\n",
    "    pageSource = driver.page_source\n",
    "    content = BeautifulSoup(pageSource)\n",
    "    \n",
    "    for item in content.findAll('a',{\"class\":\"position_link\"}): #公司链接\n",
    "        if \"href\" in item.attrs:\n",
    "            link=item.attrs['href']\n",
    "        driver.get(link)\n",
    "        pageSource = driver.page_source\n",
    "        content = BeautifulSoup(pageSource)\n",
    "        time.sleep(5)\n",
    "        \n",
    "        data1 = content.findAll('span',{\"class\":\"ceil-job\"})[0].get_text().replace(' /','') #职位\n",
    "        job.append(data1)\n",
    "        \n",
    "        data2 = content.findAll('img',{\"class\":\"b2\"})[0].attrs['alt']     #公司\n",
    "        company.append(data2)\n",
    "    \n",
    "        data3 = content.findAll('span',{\"class\":\"ceil-salary\"})[0].get_text()     #工资\n",
    "        salary.append(data3)\n",
    "        \n",
    "        data4 = content.h3.findAll('span',{\"class\":None})[1].get_text().replace(' /','') #经验\n",
    "        experience.append(data4)\n",
    "        \n",
    "        data5 = content.h3.findAll('span',{\"class\":None})[2].get_text().replace(' /','') #学历\n",
    "        education.append(data5)\n",
    "        \n",
    "        data6 = content.h3.findAll('span',{\"class\":None})[0].get_text().replace('/','')  #地点\n",
    "        address.append(data6)\n",
    "        \n",
    "        data7 = content.findAll('div',{\"class\":\"job-detail\"})[0].get_text().replace('\\xa0','') #具体描述\n",
    "        describe.append(data7)\n",
    "    \n",
    "for i in range(1,31):\n",
    "    url = \"https://www.lagou.com/zhaopin/Python/\"+str(i)+\"/?filterOption=3&sid=262751283f774b78b55ac6639e52d6ea\"\n",
    "    if i%5==0:\n",
    "        time.sleep(20)\n",
    "    print('正在采集第%s个页面'%str(i))\n",
    "    scraping(url)\n",
    "print('所有页面数据采集完成！')    \n",
    "\n",
    "file = open('lagouwang.csv','w',encoding='utf-8-sig')  #创建CSV文件\n",
    "writer = csv.writer(file)\n",
    "writer.writerow(['job','company','salary','experience','education','address'])\n",
    "\n",
    "f = open('职位描述.txt','w') #创建txt文件\n",
    "\n",
    "table = 'lagouwang_python'      #数据库中表的名称\n",
    "keys = ('zhiwei,gongsi,gongzi,jingyan,xueli,dizhi')\n",
    "values = ','.join(['%s']*6)\n",
    "print('正在导入数据……')\n",
    "for i in range(len(job)):\n",
    "    try:\n",
    "        zhiwei = job[i]\n",
    "        gongsi = company[i]\n",
    "        gongzi = salary[i]\n",
    "        jingyan = experience[i]  \n",
    "        xueli = education[i]\n",
    "        dizhi = address[i]\n",
    "        data =(zhiwei,gongsi,gongzi,jingyan,xueli,dizhi)\n",
    "        miaoshu = describe[i]\n",
    "        writer.writerow([zhiwei,gongsi,gongzi,jingyan,xueli,dizhi]) #将数据写入csv文件\n",
    "        f.write(miaoshu) #将职位描述写入txt文件\n",
    "        sql = 'INSERT INTO {table} ({keys}) VALUES ({values})'.format(table=table,keys=keys,values=values)\n",
    "        cur.execute(sql,data) #将数据写入数据库\n",
    "        db.commit()\n",
    "        \n",
    "    except Exception as e:\n",
    "        print('出现异常：' + str(e))\n",
    "        continue\n",
    "file.close() #关闭文件接口\n",
    "f.close()\n",
    "cur.close()\n",
    "db.close()\n",
    "print('数据导入完成！')    \n",
    "driver.close() #关闭浏览器"
   ]
  },
  {
   "cell_type": "markdown",
   "metadata": {},
   "source": [
    "# 拉勾网数据分析"
   ]
  },
  {
   "cell_type": "code",
   "execution_count": 1,
   "metadata": {},
   "outputs": [],
   "source": [
    "import numpy as np\n",
    "import pandas as pd"
   ]
  },
  {
   "cell_type": "code",
   "execution_count": 4,
   "metadata": {},
   "outputs": [
    {
     "data": {
      "text/html": [
       "<div>\n",
       "<style scoped>\n",
       "    .dataframe tbody tr th:only-of-type {\n",
       "        vertical-align: middle;\n",
       "    }\n",
       "\n",
       "    .dataframe tbody tr th {\n",
       "        vertical-align: top;\n",
       "    }\n",
       "\n",
       "    .dataframe thead th {\n",
       "        text-align: right;\n",
       "    }\n",
       "</style>\n",
       "<table border=\"1\" class=\"dataframe\">\n",
       "  <thead>\n",
       "    <tr style=\"text-align: right;\">\n",
       "      <th></th>\n",
       "      <th>job</th>\n",
       "      <th>company</th>\n",
       "      <th>salary</th>\n",
       "      <th>experience</th>\n",
       "      <th>education</th>\n",
       "      <th>address</th>\n",
       "    </tr>\n",
       "  </thead>\n",
       "  <tbody>\n",
       "    <tr>\n",
       "      <th>0</th>\n",
       "      <td>python</td>\n",
       "      <td>成都快师傅科技有限公司</td>\n",
       "      <td>4k-7k</td>\n",
       "      <td>经验1-3年</td>\n",
       "      <td>学历不限</td>\n",
       "      <td>成都</td>\n",
       "    </tr>\n",
       "    <tr>\n",
       "      <th>1</th>\n",
       "      <td>python</td>\n",
       "      <td>江苏东蓝软件技术有限公司</td>\n",
       "      <td>9k-18k</td>\n",
       "      <td>经验1-3年</td>\n",
       "      <td>大专及以上</td>\n",
       "      <td>南京</td>\n",
       "    </tr>\n",
       "    <tr>\n",
       "      <th>2</th>\n",
       "      <td>python</td>\n",
       "      <td>北京数美时代科技有限公司</td>\n",
       "      <td>10k-20k</td>\n",
       "      <td>经验应届毕业生</td>\n",
       "      <td>本科及以上</td>\n",
       "      <td>北京</td>\n",
       "    </tr>\n",
       "    <tr>\n",
       "      <th>3</th>\n",
       "      <td>python</td>\n",
       "      <td>西安华讯科技有限责任公司</td>\n",
       "      <td>6k-12k</td>\n",
       "      <td>经验1-3年</td>\n",
       "      <td>本科及以上</td>\n",
       "      <td>西安</td>\n",
       "    </tr>\n",
       "    <tr>\n",
       "      <th>4</th>\n",
       "      <td>python</td>\n",
       "      <td>深圳云安宝科技有限公司</td>\n",
       "      <td>15k-30k</td>\n",
       "      <td>经验3-5年</td>\n",
       "      <td>本科及以上</td>\n",
       "      <td>深圳</td>\n",
       "    </tr>\n",
       "    <tr>\n",
       "      <th>...</th>\n",
       "      <td>...</td>\n",
       "      <td>...</td>\n",
       "      <td>...</td>\n",
       "      <td>...</td>\n",
       "      <td>...</td>\n",
       "      <td>...</td>\n",
       "    </tr>\n",
       "    <tr>\n",
       "      <th>445</th>\n",
       "      <td>后端开发实习生（Java/Golan</td>\n",
       "      <td>北京字节跳动科技有限公司</td>\n",
       "      <td>4k-8k</td>\n",
       "      <td>经验不限</td>\n",
       "      <td>本科及以上</td>\n",
       "      <td>上海</td>\n",
       "    </tr>\n",
       "    <tr>\n",
       "      <th>446</th>\n",
       "      <td>高级Python开发工程师</td>\n",
       "      <td>郑州创恒实业有限公司</td>\n",
       "      <td>7k-10k</td>\n",
       "      <td>经验1-3年</td>\n",
       "      <td>本科及以上</td>\n",
       "      <td>郑州</td>\n",
       "    </tr>\n",
       "    <tr>\n",
       "      <th>447</th>\n",
       "      <td>中高级python开发工程师</td>\n",
       "      <td>广州回头车信息科技有限公司</td>\n",
       "      <td>15k-30k</td>\n",
       "      <td>经验3-5年</td>\n",
       "      <td>本科及以上</td>\n",
       "      <td>广州</td>\n",
       "    </tr>\n",
       "    <tr>\n",
       "      <th>448</th>\n",
       "      <td>python后台开发工程师（深圳</td>\n",
       "      <td>腾讯科技（深圳）有限公司</td>\n",
       "      <td>15k-30k</td>\n",
       "      <td>经验3-5年</td>\n",
       "      <td>本科及以上</td>\n",
       "      <td>深圳</td>\n",
       "    </tr>\n",
       "    <tr>\n",
       "      <th>449</th>\n",
       "      <td>Python研发工程师</td>\n",
       "      <td>云孚科技（北京）有限公司</td>\n",
       "      <td>5k-10k</td>\n",
       "      <td>经验不限</td>\n",
       "      <td>本科及以上</td>\n",
       "      <td>北京</td>\n",
       "    </tr>\n",
       "  </tbody>\n",
       "</table>\n",
       "<p>450 rows × 6 columns</p>\n",
       "</div>"
      ],
      "text/plain": [
       "                    job        company   salary experience education address\n",
       "0                python    成都快师傅科技有限公司    4k-7k     经验1-3年      学历不限     成都 \n",
       "1                python   江苏东蓝软件技术有限公司   9k-18k     经验1-3年     大专及以上     南京 \n",
       "2                python   北京数美时代科技有限公司  10k-20k    经验应届毕业生     本科及以上     北京 \n",
       "3                python   西安华讯科技有限责任公司   6k-12k     经验1-3年     本科及以上     西安 \n",
       "4                python    深圳云安宝科技有限公司  15k-30k     经验3-5年     本科及以上     深圳 \n",
       "..                  ...            ...      ...        ...       ...     ...\n",
       "445  后端开发实习生（Java/Golan   北京字节跳动科技有限公司    4k-8k       经验不限     本科及以上     上海 \n",
       "446       高级Python开发工程师     郑州创恒实业有限公司   7k-10k     经验1-3年     本科及以上     郑州 \n",
       "447      中高级python开发工程师  广州回头车信息科技有限公司  15k-30k     经验3-5年     本科及以上     广州 \n",
       "448    python后台开发工程师（深圳   腾讯科技（深圳）有限公司  15k-30k     经验3-5年     本科及以上     深圳 \n",
       "449         Python研发工程师   云孚科技（北京）有限公司   5k-10k       经验不限     本科及以上     北京 \n",
       "\n",
       "[450 rows x 6 columns]"
      ]
     },
     "execution_count": 4,
     "metadata": {},
     "output_type": "execute_result"
    }
   ],
   "source": [
    "df = pd.read_csv('lagouwang.csv',encoding = 'gbk')\n",
    "df"
   ]
  },
  {
   "cell_type": "code",
   "execution_count": 80,
   "metadata": {},
   "outputs": [
    {
     "name": "stdout",
     "output_type": "stream",
     "text": [
      "<class 'pandas.core.frame.DataFrame'>\n",
      "RangeIndex: 450 entries, 0 to 449\n",
      "Data columns (total 6 columns):\n",
      "job           450 non-null object\n",
      "company       450 non-null object\n",
      "salary        450 non-null int32\n",
      "experience    450 non-null object\n",
      "education     450 non-null object\n",
      "address       450 non-null object\n",
      "dtypes: int32(1), object(5)\n",
      "memory usage: 19.5+ KB\n"
     ]
    }
   ],
   "source": [
    "df.info() #查看数据信息"
   ]
  },
  {
   "cell_type": "code",
   "execution_count": 6,
   "metadata": {},
   "outputs": [
    {
     "data": {
      "text/html": [
       "<div>\n",
       "<style scoped>\n",
       "    .dataframe tbody tr th:only-of-type {\n",
       "        vertical-align: middle;\n",
       "    }\n",
       "\n",
       "    .dataframe tbody tr th {\n",
       "        vertical-align: top;\n",
       "    }\n",
       "\n",
       "    .dataframe thead th {\n",
       "        text-align: right;\n",
       "    }\n",
       "</style>\n",
       "<table border=\"1\" class=\"dataframe\">\n",
       "  <thead>\n",
       "    <tr style=\"text-align: right;\">\n",
       "      <th></th>\n",
       "      <th>job</th>\n",
       "      <th>company</th>\n",
       "      <th>salary</th>\n",
       "      <th>experience</th>\n",
       "      <th>education</th>\n",
       "      <th>address</th>\n",
       "    </tr>\n",
       "  </thead>\n",
       "  <tbody>\n",
       "    <tr>\n",
       "      <th>count</th>\n",
       "      <td>450</td>\n",
       "      <td>450</td>\n",
       "      <td>450</td>\n",
       "      <td>450</td>\n",
       "      <td>450</td>\n",
       "      <td>450</td>\n",
       "    </tr>\n",
       "    <tr>\n",
       "      <th>unique</th>\n",
       "      <td>223</td>\n",
       "      <td>314</td>\n",
       "      <td>93</td>\n",
       "      <td>6</td>\n",
       "      <td>4</td>\n",
       "      <td>20</td>\n",
       "    </tr>\n",
       "    <tr>\n",
       "      <th>top</th>\n",
       "      <td>python开发工程师</td>\n",
       "      <td>北京字节跳动科技有限公司</td>\n",
       "      <td>15k-30k</td>\n",
       "      <td>经验3-5年</td>\n",
       "      <td>本科及以上</td>\n",
       "      <td>北京</td>\n",
       "    </tr>\n",
       "    <tr>\n",
       "      <th>freq</th>\n",
       "      <td>42</td>\n",
       "      <td>11</td>\n",
       "      <td>55</td>\n",
       "      <td>207</td>\n",
       "      <td>377</td>\n",
       "      <td>146</td>\n",
       "    </tr>\n",
       "  </tbody>\n",
       "</table>\n",
       "</div>"
      ],
      "text/plain": [
       "                job       company   salary experience education address\n",
       "count           450           450      450        450       450     450\n",
       "unique          223           314       93          6         4      20\n",
       "top     python开发工程师  北京字节跳动科技有限公司  15k-30k     经验3-5年     本科及以上     北京 \n",
       "freq             42            11       55        207       377     146"
      ]
     },
     "execution_count": 6,
     "metadata": {},
     "output_type": "execute_result"
    }
   ],
   "source": [
    "df.describe() #简单的统计信息：每个栏位数据的个数，不重复数据个数，出现最多的数据及其出现的次数"
   ]
  },
  {
   "cell_type": "code",
   "execution_count": 7,
   "metadata": {},
   "outputs": [
    {
     "data": {
      "text/html": [
       "<div>\n",
       "<style scoped>\n",
       "    .dataframe tbody tr th:only-of-type {\n",
       "        vertical-align: middle;\n",
       "    }\n",
       "\n",
       "    .dataframe tbody tr th {\n",
       "        vertical-align: top;\n",
       "    }\n",
       "\n",
       "    .dataframe thead th {\n",
       "        text-align: right;\n",
       "    }\n",
       "</style>\n",
       "<table border=\"1\" class=\"dataframe\">\n",
       "  <thead>\n",
       "    <tr style=\"text-align: right;\">\n",
       "      <th></th>\n",
       "      <th>job</th>\n",
       "      <th>company</th>\n",
       "      <th>salary</th>\n",
       "      <th>experience</th>\n",
       "      <th>education</th>\n",
       "      <th>address</th>\n",
       "    </tr>\n",
       "  </thead>\n",
       "  <tbody>\n",
       "    <tr>\n",
       "      <th>0</th>\n",
       "      <td>False</td>\n",
       "      <td>False</td>\n",
       "      <td>False</td>\n",
       "      <td>False</td>\n",
       "      <td>False</td>\n",
       "      <td>False</td>\n",
       "    </tr>\n",
       "    <tr>\n",
       "      <th>1</th>\n",
       "      <td>False</td>\n",
       "      <td>False</td>\n",
       "      <td>False</td>\n",
       "      <td>False</td>\n",
       "      <td>False</td>\n",
       "      <td>False</td>\n",
       "    </tr>\n",
       "    <tr>\n",
       "      <th>2</th>\n",
       "      <td>False</td>\n",
       "      <td>False</td>\n",
       "      <td>False</td>\n",
       "      <td>False</td>\n",
       "      <td>False</td>\n",
       "      <td>False</td>\n",
       "    </tr>\n",
       "    <tr>\n",
       "      <th>3</th>\n",
       "      <td>False</td>\n",
       "      <td>False</td>\n",
       "      <td>False</td>\n",
       "      <td>False</td>\n",
       "      <td>False</td>\n",
       "      <td>False</td>\n",
       "    </tr>\n",
       "    <tr>\n",
       "      <th>4</th>\n",
       "      <td>False</td>\n",
       "      <td>False</td>\n",
       "      <td>False</td>\n",
       "      <td>False</td>\n",
       "      <td>False</td>\n",
       "      <td>False</td>\n",
       "    </tr>\n",
       "    <tr>\n",
       "      <th>...</th>\n",
       "      <td>...</td>\n",
       "      <td>...</td>\n",
       "      <td>...</td>\n",
       "      <td>...</td>\n",
       "      <td>...</td>\n",
       "      <td>...</td>\n",
       "    </tr>\n",
       "    <tr>\n",
       "      <th>445</th>\n",
       "      <td>False</td>\n",
       "      <td>False</td>\n",
       "      <td>False</td>\n",
       "      <td>False</td>\n",
       "      <td>False</td>\n",
       "      <td>False</td>\n",
       "    </tr>\n",
       "    <tr>\n",
       "      <th>446</th>\n",
       "      <td>False</td>\n",
       "      <td>False</td>\n",
       "      <td>False</td>\n",
       "      <td>False</td>\n",
       "      <td>False</td>\n",
       "      <td>False</td>\n",
       "    </tr>\n",
       "    <tr>\n",
       "      <th>447</th>\n",
       "      <td>False</td>\n",
       "      <td>False</td>\n",
       "      <td>False</td>\n",
       "      <td>False</td>\n",
       "      <td>False</td>\n",
       "      <td>False</td>\n",
       "    </tr>\n",
       "    <tr>\n",
       "      <th>448</th>\n",
       "      <td>False</td>\n",
       "      <td>False</td>\n",
       "      <td>False</td>\n",
       "      <td>False</td>\n",
       "      <td>False</td>\n",
       "      <td>False</td>\n",
       "    </tr>\n",
       "    <tr>\n",
       "      <th>449</th>\n",
       "      <td>False</td>\n",
       "      <td>False</td>\n",
       "      <td>False</td>\n",
       "      <td>False</td>\n",
       "      <td>False</td>\n",
       "      <td>False</td>\n",
       "    </tr>\n",
       "  </tbody>\n",
       "</table>\n",
       "<p>450 rows × 6 columns</p>\n",
       "</div>"
      ],
      "text/plain": [
       "       job  company  salary  experience  education  address\n",
       "0    False    False   False       False      False    False\n",
       "1    False    False   False       False      False    False\n",
       "2    False    False   False       False      False    False\n",
       "3    False    False   False       False      False    False\n",
       "4    False    False   False       False      False    False\n",
       "..     ...      ...     ...         ...        ...      ...\n",
       "445  False    False   False       False      False    False\n",
       "446  False    False   False       False      False    False\n",
       "447  False    False   False       False      False    False\n",
       "448  False    False   False       False      False    False\n",
       "449  False    False   False       False      False    False\n",
       "\n",
       "[450 rows x 6 columns]"
      ]
     },
     "execution_count": 7,
     "metadata": {},
     "output_type": "execute_result"
    }
   ],
   "source": [
    "df.isnull() #查看缺失值"
   ]
  },
  {
   "cell_type": "code",
   "execution_count": 8,
   "metadata": {},
   "outputs": [
    {
     "data": {
      "text/plain": [
       "job           False\n",
       "company       False\n",
       "salary        False\n",
       "experience    False\n",
       "education     False\n",
       "address       False\n",
       "dtype: bool"
      ]
     },
     "execution_count": 8,
     "metadata": {},
     "output_type": "execute_result"
    }
   ],
   "source": [
    "df.isnull().any() #查看缺失值"
   ]
  },
  {
   "cell_type": "code",
   "execution_count": 9,
   "metadata": {},
   "outputs": [
    {
     "data": {
      "text/plain": [
       "job           0\n",
       "company       0\n",
       "salary        0\n",
       "experience    0\n",
       "education     0\n",
       "address       0\n",
       "dtype: int64"
      ]
     },
     "execution_count": 9,
     "metadata": {},
     "output_type": "execute_result"
    }
   ],
   "source": [
    "df.isnull().sum() #缺失值个数"
   ]
  },
  {
   "cell_type": "code",
   "execution_count": 49,
   "metadata": {},
   "outputs": [
    {
     "data": {
      "text/plain": [
       "北京     146\n",
       "深圳      93\n",
       "上海      89\n",
       "广州      27\n",
       "杭州      24\n",
       "成都      21\n",
       "武汉      18\n",
       "苏州       7\n",
       "南京       5\n",
       "青岛       3\n",
       "天津       3\n",
       "西安       3\n",
       "郑州       2\n",
       "厦门       2\n",
       "长沙       2\n",
       "廊坊       1\n",
       "济南       1\n",
       "大连       1\n",
       "珠海       1\n",
       "烟台       1\n",
       "Name: address, dtype: int64"
      ]
     },
     "execution_count": 49,
     "metadata": {},
     "output_type": "execute_result"
    }
   ],
   "source": [
    "df['address'].value_counts()#统计某列数据分布情况"
   ]
  },
  {
   "cell_type": "code",
   "execution_count": 88,
   "metadata": {},
   "outputs": [
    {
     "data": {
      "text/html": [
       "<div>\n",
       "<style scoped>\n",
       "    .dataframe tbody tr th:only-of-type {\n",
       "        vertical-align: middle;\n",
       "    }\n",
       "\n",
       "    .dataframe tbody tr th {\n",
       "        vertical-align: top;\n",
       "    }\n",
       "\n",
       "    .dataframe thead th {\n",
       "        text-align: right;\n",
       "    }\n",
       "</style>\n",
       "<table border=\"1\" class=\"dataframe\">\n",
       "  <thead>\n",
       "    <tr style=\"text-align: right;\">\n",
       "      <th></th>\n",
       "      <th>job</th>\n",
       "      <th>company</th>\n",
       "      <th>salary</th>\n",
       "      <th>experience</th>\n",
       "      <th>education</th>\n",
       "      <th>address</th>\n",
       "    </tr>\n",
       "  </thead>\n",
       "  <tbody>\n",
       "    <tr>\n",
       "      <th>60</th>\n",
       "      <td>python</td>\n",
       "      <td>中科育软（苏州）智能科技有限公司</td>\n",
       "      <td>10</td>\n",
       "      <td>经验3-5年</td>\n",
       "      <td>本科及以上</td>\n",
       "      <td>苏州</td>\n",
       "    </tr>\n",
       "    <tr>\n",
       "      <th>84</th>\n",
       "      <td>python</td>\n",
       "      <td>苏州世纪福智能装备股份有限公司</td>\n",
       "      <td>10</td>\n",
       "      <td>经验3-5年</td>\n",
       "      <td>本科及以上</td>\n",
       "      <td>苏州</td>\n",
       "    </tr>\n",
       "    <tr>\n",
       "      <th>92</th>\n",
       "      <td>python</td>\n",
       "      <td>苏州世纪福智能装备股份有限公司</td>\n",
       "      <td>10</td>\n",
       "      <td>经验3-5年</td>\n",
       "      <td>本科及以上</td>\n",
       "      <td>苏州</td>\n",
       "    </tr>\n",
       "    <tr>\n",
       "      <th>176</th>\n",
       "      <td>Python初级开发工程师</td>\n",
       "      <td>深圳市和沃翼起科技有限公司</td>\n",
       "      <td>5</td>\n",
       "      <td>经验不限</td>\n",
       "      <td>本科及以上</td>\n",
       "      <td>苏州</td>\n",
       "    </tr>\n",
       "    <tr>\n",
       "      <th>234</th>\n",
       "      <td>资深python开发工程师</td>\n",
       "      <td>上海众言网络科技有限公司</td>\n",
       "      <td>15</td>\n",
       "      <td>经验5-10年</td>\n",
       "      <td>本科及以上</td>\n",
       "      <td>苏州</td>\n",
       "    </tr>\n",
       "    <tr>\n",
       "      <th>241</th>\n",
       "      <td>Python开发工程师</td>\n",
       "      <td>苏州极光无限信息技术有限公司</td>\n",
       "      <td>10</td>\n",
       "      <td>经验3-5年</td>\n",
       "      <td>大专及以上</td>\n",
       "      <td>苏州</td>\n",
       "    </tr>\n",
       "    <tr>\n",
       "      <th>267</th>\n",
       "      <td>高级Python开发工程师</td>\n",
       "      <td>苏州极光无限信息技术有限公司</td>\n",
       "      <td>25</td>\n",
       "      <td>经验5-10年</td>\n",
       "      <td>大专及以上</td>\n",
       "      <td>苏州</td>\n",
       "    </tr>\n",
       "  </tbody>\n",
       "</table>\n",
       "</div>"
      ],
      "text/plain": [
       "               job           company  salary experience education address\n",
       "60          python  中科育软（苏州）智能科技有限公司      10     经验3-5年     本科及以上     苏州 \n",
       "84          python   苏州世纪福智能装备股份有限公司      10     经验3-5年     本科及以上     苏州 \n",
       "92          python   苏州世纪福智能装备股份有限公司      10     经验3-5年     本科及以上     苏州 \n",
       "176  Python初级开发工程师     深圳市和沃翼起科技有限公司       5       经验不限     本科及以上     苏州 \n",
       "234  资深python开发工程师      上海众言网络科技有限公司      15    经验5-10年     本科及以上     苏州 \n",
       "241    Python开发工程师    苏州极光无限信息技术有限公司      10     经验3-5年     大专及以上     苏州 \n",
       "267  高级Python开发工程师    苏州极光无限信息技术有限公司      25    经验5-10年     大专及以上     苏州 "
      ]
     },
     "execution_count": 88,
     "metadata": {},
     "output_type": "execute_result"
    }
   ],
   "source": [
    "df[df['address'] == '苏州 '] #查找含有某信息的行"
   ]
  },
  {
   "cell_type": "code",
   "execution_count": 76,
   "metadata": {},
   "outputs": [],
   "source": [
    "df['salary']=df['salary'].str.extract('(\\d+)k-\\d+k',expand = False) #正则表达式提取信息"
   ]
  },
  {
   "cell_type": "code",
   "execution_count": 87,
   "metadata": {},
   "outputs": [],
   "source": [
    "def get_salary(i):\n",
    "        if i<=5:\n",
    "            return 5\n",
    "        elif 5<i<=10:\n",
    "            return 10\n",
    "        elif 10<i<=15:\n",
    "            return 15\n",
    "        elif 15<=i<20:\n",
    "            return 20\n",
    "        elif 20<=i<25:\n",
    "            return 25\n",
    "        elif 25<=i<30:\n",
    "            return 30\n",
    "        else:\n",
    "            return 35\n",
    "        \n",
    "df['salary']=df['salary'].apply(get_salary)   #借助函数替换数据     "
   ]
  },
  {
   "cell_type": "code",
   "execution_count": 79,
   "metadata": {},
   "outputs": [],
   "source": [
    "df['salary'] = df['salary'].astype(int)  #字符转整型"
   ]
  },
  {
   "cell_type": "raw",
   "metadata": {},
   "source": [
    "df2 = df.pivot_table(index = 'address',columns='experience',values='salary',fill_value='0') #建立数据透视表"
   ]
  },
  {
   "cell_type": "code",
   "execution_count": 50,
   "metadata": {},
   "outputs": [],
   "source": [
    "import matplotlib.pyplot as plt\n",
    "import seaborn as sns\n",
    "import matplotlib as mpl\n",
    "from collections import Counter"
   ]
  },
  {
   "cell_type": "code",
   "execution_count": 89,
   "metadata": {},
   "outputs": [],
   "source": [
    "plt.rcParams['font.sans-serif'] = ['SimHei']\n",
    "plt.rcParams['axes.unicode_minus']= False\n",
    "plt.rcParams['axes.labelsize'] = 8\n",
    "plt.rcParams['xtick.labelsize'] = 12\n",
    "plt.rcParams['ytick.labelsize'] = 12\n",
    "plt.rcParams['figure.figsize'] = [8.,8.]"
   ]
  },
  {
   "cell_type": "code",
   "execution_count": 57,
   "metadata": {},
   "outputs": [
    {
     "data": {
      "text/plain": [
       "<matplotlib.axes._subplots.AxesSubplot at 0x2e82fac8b20>"
      ]
     },
     "execution_count": 57,
     "metadata": {},
     "output_type": "execute_result"
    },
    {
     "data": {
      "image/png": "[encoded data removed]",
      "text/plain": [
       "<Figure size 576x576 with 1 Axes>"
      ]
     },
     "metadata": {
      "needs_background": "light"
     },
     "output_type": "display_data"
    }
   ],
   "source": [
    "df['address'].value_counts().plot(kind='bar') #绘制条形图"
   ]
  },
  {
   "cell_type": "code",
   "execution_count": 58,
   "metadata": {},
   "outputs": [
    {
     "data": {
      "text/plain": [
       "<matplotlib.axes._subplots.AxesSubplot at 0x2e82fb1dfa0>"
      ]
     },
     "execution_count": 58,
     "metadata": {},
     "output_type": "execute_result"
    },
    {
     "data": {
      "image/png": "[encoded data removed]",
      "text/plain": [
       "<Figure size 576x576 with 1 Axes>"
      ]
     },
     "metadata": {
      "needs_background": "light"
     },
     "output_type": "display_data"
    }
   ],
   "source": [
    "df['education'].value_counts().plot(kind='barh') #绘制条形图"
   ]
  },
  {
   "cell_type": "code",
   "execution_count": 59,
   "metadata": {},
   "outputs": [
    {
     "data": {
      "text/plain": [
       "<matplotlib.axes._subplots.AxesSubplot at 0x2e82fc30820>"
      ]
     },
     "execution_count": 59,
     "metadata": {},
     "output_type": "execute_result"
    },
    {
     "data": {
      "image/png": "[encoded data removed]",
      "text/plain": [
       "<Figure size 576x576 with 1 Axes>"
      ]
     },
     "metadata": {
      "needs_background": "light"
     },
     "output_type": "display_data"
    }
   ],
   "source": [
    "df['experience'].value_counts().plot(kind='barh') #绘制条形图"
   ]
  },
  {
   "cell_type": "code",
   "execution_count": 63,
   "metadata": {},
   "outputs": [
    {
     "data": {
      "text/plain": [
       "<matplotlib.axes._subplots.AxesSubplot at 0x2e82ff116d0>"
      ]
     },
     "execution_count": 63,
     "metadata": {},
     "output_type": "execute_result"
    },
    {
     "data": {
      "image/png": "[encoded data removed]",
      "text/plain": [
       "<Figure size 576x576 with 1 Axes>"
      ]
     },
     "metadata": {},
     "output_type": "display_data"
    }
   ],
   "source": [
    "df['experience'].value_counts().plot(kind='pie',autopct = '%1.2f%%') #绘制饼图"
   ]
  },
  {
   "cell_type": "code",
   "execution_count": 92,
   "metadata": {},
   "outputs": [
    {
     "data": {
      "text/plain": [
       "<matplotlib.axes._subplots.AxesSubplot at 0x2e831f98610>"
      ]
     },
     "execution_count": 92,
     "metadata": {},
     "output_type": "execute_result"
    },
    {
     "data": {
      "image/png": "[encoded data removed]",
      "text/plain": [
       "<Figure size 576x576 with 1 Axes>"
      ]
     },
     "metadata": {
      "needs_background": "light"
     },
     "output_type": "display_data"
    }
   ],
   "source": [
    "df['salary'].value_counts().plot(kind='barh') #绘制条形图"
   ]
  },
  {
   "cell_type": "code",
   "execution_count": null,
   "metadata": {},
   "outputs": [],
   "source": []
  }
 ],
 "metadata": {
  "kernelspec": {
   "display_name": "Python 3",
   "language": "python",
   "name": "python3"
  },
  "language_info": {
   "codemirror_mode": {
    "name": "ipython",
    "version": 3
   },
   "file_extension": ".py",
   "mimetype": "text/x-python",
   "name": "python",
   "nbconvert_exporter": "python",
   "pygments_lexer": "ipython3",
   "version": "3.8.0"
  }
 },
 "nbformat": 4,
 "nbformat_minor": 2
}
